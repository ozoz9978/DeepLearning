{
 "cells": [
  {
   "cell_type": "code",
   "execution_count": null,
   "id": "667a030e-9ea0-4373-81c0-fd593be1ea1e",
   "metadata": {},
   "outputs": [],
   "source": [
    "# LSTM- RNN 심화버전 사용해보기"
   ]
  },
  {
   "cell_type": "code",
   "execution_count": 56,
   "id": "dda80020-5587-45fc-b412-fa588f139e84",
   "metadata": {},
   "outputs": [],
   "source": [
    "import pandas as pd\n",
    "import numpy as np\n",
    "import matplotlib.pyplot as plt\n",
    "from sklearn.preprocessing import MinMaxScaler\n",
    "from tensorflow.keras.models import Sequential\n",
    "from tensorflow.keras.layers import LSTM, Dense"
   ]
  },
  {
   "cell_type": "markdown",
   "id": "1e0e4a51-0562-4e58-858b-47327bc18889",
   "metadata": {},
   "source": [
    "#하이퍼 파라미터 설정"
   ]
  },
  {
   "cell_type": "code",
   "execution_count": 57,
   "id": "e4cd679e-283d-463d-bbf6-e198e31f2776",
   "metadata": {},
   "outputs": [],
   "source": [
    "PAST = 12\n",
    "SPLIT = 0.8\n",
    "NEURON = 500\n",
    "RNN_SAHPE = (PAST,1)\n",
    "EPOCH = 100\n",
    "BATCH = 64"
   ]
  },
  {
   "cell_type": "markdown",
   "id": "04d1e809-0b3c-4f2b-92b9-f75414efaecf",
   "metadata": {},
   "source": [
    "# 데이터 로딩 및 스케일링"
   ]
  },
  {
   "cell_type": "code",
   "execution_count": 58,
   "id": "beeeac6c-b865-4f40-a769-4134e0855b3c",
   "metadata": {},
   "outputs": [
    {
     "name": "stdout",
     "output_type": "stream",
     "text": [
      "(144, 2)\n"
     ]
    },
    {
     "data": {
      "text/html": [
       "<div>\n",
       "<style scoped>\n",
       "    .dataframe tbody tr th:only-of-type {\n",
       "        vertical-align: middle;\n",
       "    }\n",
       "\n",
       "    .dataframe tbody tr th {\n",
       "        vertical-align: top;\n",
       "    }\n",
       "\n",
       "    .dataframe thead th {\n",
       "        text-align: right;\n",
       "    }\n",
       "</style>\n",
       "<table border=\"1\" class=\"dataframe\">\n",
       "  <thead>\n",
       "    <tr style=\"text-align: right;\">\n",
       "      <th></th>\n",
       "      <th>0</th>\n",
       "      <th>1</th>\n",
       "    </tr>\n",
       "  </thead>\n",
       "  <tbody>\n",
       "    <tr>\n",
       "      <th>0</th>\n",
       "      <td>1949-01</td>\n",
       "      <td>112</td>\n",
       "    </tr>\n",
       "    <tr>\n",
       "      <th>1</th>\n",
       "      <td>1949-02</td>\n",
       "      <td>118</td>\n",
       "    </tr>\n",
       "    <tr>\n",
       "      <th>2</th>\n",
       "      <td>1949-03</td>\n",
       "      <td>132</td>\n",
       "    </tr>\n",
       "    <tr>\n",
       "      <th>3</th>\n",
       "      <td>1949-04</td>\n",
       "      <td>129</td>\n",
       "    </tr>\n",
       "    <tr>\n",
       "      <th>4</th>\n",
       "      <td>1949-05</td>\n",
       "      <td>121</td>\n",
       "    </tr>\n",
       "  </tbody>\n",
       "</table>\n",
       "</div>"
      ],
      "text/plain": [
       "         0    1\n",
       "0  1949-01  112\n",
       "1  1949-02  118\n",
       "2  1949-03  132\n",
       "3  1949-04  129\n",
       "4  1949-05  121"
      ]
     },
     "metadata": {},
     "output_type": "display_data"
    }
   ],
   "source": [
    "df = pd.read_csv(\"airline.csv\",header=None) # 열제목 쓸데없는거 들어가있음\n",
    "print(df.shape)\n",
    "display(df.head())"
   ]
  },
  {
   "cell_type": "code",
   "execution_count": 59,
   "id": "d792ac8c-3822-4266-8d8f-91dd4545888a",
   "metadata": {},
   "outputs": [
    {
     "data": {
      "text/html": [
       "<div>\n",
       "<style scoped>\n",
       "    .dataframe tbody tr th:only-of-type {\n",
       "        vertical-align: middle;\n",
       "    }\n",
       "\n",
       "    .dataframe tbody tr th {\n",
       "        vertical-align: top;\n",
       "    }\n",
       "\n",
       "    .dataframe thead th {\n",
       "        text-align: right;\n",
       "    }\n",
       "</style>\n",
       "<table border=\"1\" class=\"dataframe\">\n",
       "  <thead>\n",
       "    <tr style=\"text-align: right;\">\n",
       "      <th></th>\n",
       "      <th>1</th>\n",
       "    </tr>\n",
       "  </thead>\n",
       "  <tbody>\n",
       "    <tr>\n",
       "      <th>0</th>\n",
       "      <td>112</td>\n",
       "    </tr>\n",
       "    <tr>\n",
       "      <th>1</th>\n",
       "      <td>118</td>\n",
       "    </tr>\n",
       "    <tr>\n",
       "      <th>2</th>\n",
       "      <td>132</td>\n",
       "    </tr>\n",
       "    <tr>\n",
       "      <th>3</th>\n",
       "      <td>129</td>\n",
       "    </tr>\n",
       "    <tr>\n",
       "      <th>4</th>\n",
       "      <td>121</td>\n",
       "    </tr>\n",
       "  </tbody>\n",
       "</table>\n",
       "</div>"
      ],
      "text/plain": [
       "     1\n",
       "0  112\n",
       "1  118\n",
       "2  132\n",
       "3  129\n",
       "4  121"
      ]
     },
     "metadata": {},
     "output_type": "display_data"
    }
   ],
   "source": [
    "df = df[[1]]\n",
    "display(df.head())"
   ]
  },
  {
   "cell_type": "code",
   "execution_count": 60,
   "id": "14159baf-5c6b-400f-9172-2645aa77e780",
   "metadata": {},
   "outputs": [
    {
     "name": "stdout",
     "output_type": "stream",
     "text": [
      "[112. 118. 132. 129. 121. 135. 148. 148. 136. 119. 104. 118. 115. 126.\n",
      " 141. 135. 125. 149. 170. 170. 158. 133. 114. 140. 145. 150. 178. 163.\n",
      " 172. 178. 199. 199. 184. 162. 146. 166. 171. 180. 193. 181. 183. 218.\n",
      " 230. 242. 209. 191. 172. 194. 196. 196. 236. 235. 229. 243. 264. 272.\n",
      " 237. 211. 180. 201. 204. 188. 235. 227. 234. 264. 302. 293. 259. 229.\n",
      " 203. 229. 242. 233. 267. 269. 270. 315. 364. 347. 312. 274. 237. 278.\n",
      " 284. 277. 317. 313. 318. 374. 413. 405. 355. 306. 271. 306. 315. 301.\n",
      " 356. 348. 355. 422. 465. 467. 404. 347. 305. 336. 340. 318. 362. 348.\n",
      " 363. 435. 491. 505. 404. 359. 310. 337. 360. 342. 406. 396. 420. 472.\n",
      " 548. 559. 463. 407. 362. 405. 417. 391. 419. 461. 472. 535. 622. 606.\n",
      " 508. 461. 390. 432.]\n"
     ]
    }
   ],
   "source": [
    "raw_DB = np.array(df).astype(float)\n",
    "print(raw_DB.flatten())"
   ]
  },
  {
   "cell_type": "code",
   "execution_count": 61,
   "id": "9988363e-cbfd-4568-9cea-42c94c5e77f0",
   "metadata": {},
   "outputs": [],
   "source": [
    "scaler = MinMaxScaler()\n",
    "raw_DB = scaler.fit_transform(raw_DB)"
   ]
  },
  {
   "cell_type": "markdown",
   "id": "227cf4f6-7509-499f-aae9-c90d6e0a59a7",
   "metadata": {},
   "source": [
    "# Timestep 데이터 생성 및 학습/평가 데이터 분할"
   ]
  },
  {
   "cell_type": "code",
   "execution_count": 62,
   "id": "117bb837-6d72-4eca-b0a0-002593564755",
   "metadata": {},
   "outputs": [],
   "source": [
    "data = []\n",
    "for i in range(len(raw_DB)-PAST):\n",
    "    data.append(raw_DB[i:i+PAST+1]) # 1ST:1~12, 2ND:1~13, 3RD:2~14\n",
    "reshaped_data = np.array(data)"
   ]
  },
  {
   "cell_type": "code",
   "execution_count": 63,
   "id": "896ec2b2-da7d-4be0-a4ea-c4122e5dbbaf",
   "metadata": {},
   "outputs": [
    {
     "name": "stdout",
     "output_type": "stream",
     "text": [
      "(132, 13, 1)\n",
      "[[0.4980695 ]\n",
      " [0.58108108]\n",
      " [0.6042471 ]\n",
      " [0.55405405]\n",
      " [0.60810811]\n",
      " [0.68918919]\n",
      " [0.71042471]\n",
      " [0.83204633]\n",
      " [1.        ]\n",
      " [0.96911197]\n",
      " [0.77992278]\n",
      " [0.68918919]\n",
      " [0.55212355]]\n"
     ]
    }
   ],
   "source": [
    "print(reshaped_data.shape)\n",
    "np.random.shuffle(reshaped_data)\n",
    "print(reshaped_data[0])"
   ]
  },
  {
   "cell_type": "markdown",
   "id": "e479601e-ce0c-4c90-b589-314444d20917",
   "metadata": {},
   "source": [
    "- 입력값과 출력값으로 분리\n",
    ">- 인덱스 0~11 (12months)를 입력값으로 사용\n",
    ">- 12번째 인덱스를 출력 값으로 사용"
   ]
  },
  {
   "cell_type": "code",
   "execution_count": 64,
   "id": "69e1d415-4a76-4a2c-b3a8-f606caf5da71",
   "metadata": {},
   "outputs": [],
   "source": [
    "x_data = reshaped_data[:,:PAST]\n",
    "y_data = reshaped_data[:,-1]\n",
    "\n",
    "split_boundary = int(reshaped_data.shape[0] * SPLIT)\n",
    "x_train = x_data[:split_boundary]\n",
    "x_test = x_data[split_boundary:]\n",
    "y_train = y_data[:split_boundary]\n",
    "y_test = y_data[split_boundary:]"
   ]
  },
  {
   "cell_type": "code",
   "execution_count": 65,
   "id": "f9a8c1de-470c-48da-a643-46caaa5552ac",
   "metadata": {},
   "outputs": [
    {
     "name": "stdout",
     "output_type": "stream",
     "text": [
      "x_train shape :  (105, 12, 1)\n",
      "x_test shape :  (27, 12, 1)\n",
      "y_train shape :  (105, 1)\n",
      "y_test shape :  (27, 1)\n"
     ]
    }
   ],
   "source": [
    "print('x_train shape : ', x_train.shape)\n",
    "print('x_test shape : ', x_test.shape)\n",
    "print('y_train shape : ', y_train.shape)\n",
    "print('y_test shape : ', y_test.shape)"
   ]
  },
  {
   "cell_type": "markdown",
   "id": "d4ee716d-a7f7-44ef-95de-360d8173ceb0",
   "metadata": {},
   "source": [
    "# 모델 생성\n",
    "- LSTM(unit, input_shape = (time_step,feature))\n",
    "  unit : hidden state의 크기, 임의의 개수를 설정\n",
    "  time_step : 과거 몇 개의 데이터를 학습할 것인지 설정\n",
    "  feature : 입력값 x의 차원(여행객 수만 고려하기 때문에 특성 차원 수는 1)"
   ]
  },
  {
   "cell_type": "code",
   "execution_count": 66,
   "id": "307f1abe-7045-4302-9825-fa483bbf91ae",
   "metadata": {},
   "outputs": [
    {
     "name": "stdout",
     "output_type": "stream",
     "text": [
      "Model: \"sequential_4\"\n",
      "_________________________________________________________________\n",
      " Layer (type)                Output Shape              Param #   \n",
      "=================================================================\n",
      " lstm_4 (LSTM)               (None, 500)               1004000   \n",
      "                                                                 \n",
      " dense_6 (Dense)             (None, 500)               250500    \n",
      "                                                                 \n",
      " dense_7 (Dense)             (None, 1)                 501       \n",
      "                                                                 \n",
      "=================================================================\n",
      "Total params: 1255001 (4.79 MB)\n",
      "Trainable params: 1255001 (4.79 MB)\n",
      "Non-trainable params: 0 (0.00 Byte)\n",
      "_________________________________________________________________\n"
     ]
    }
   ],
   "source": [
    "model = Sequential()\n",
    "model.add(LSTM(units=NEURON, input_shape=RNN_SAHPE))\n",
    "model.add(Dense(units=NEURON, activation='relu'))\n",
    "model.add(Dense(units=1,activation='linear'))\n",
    "model.summary()"
   ]
  },
  {
   "cell_type": "code",
   "execution_count": 67,
   "id": "4c7540f9-4cf7-464e-b88d-61a8b4636904",
   "metadata": {
    "scrolled": true
   },
   "outputs": [
    {
     "name": "stdout",
     "output_type": "stream",
     "text": [
      "Epoch 1/100\n",
      "2/2 [==============================] - 4s 205ms/step - loss: 0.1169 - mae: 0.2883\n",
      "Epoch 2/100\n",
      "2/2 [==============================] - 1s 252ms/step - loss: 0.0221 - mae: 0.1076\n",
      "Epoch 3/100\n",
      "2/2 [==============================] - 0s 138ms/step - loss: 0.0168 - mae: 0.1039\n",
      "Epoch 4/100\n",
      "2/2 [==============================] - 0s 69ms/step - loss: 0.0194 - mae: 0.1000\n",
      "Epoch 5/100\n",
      "2/2 [==============================] - 0s 140ms/step - loss: 0.0168 - mae: 0.0942\n",
      "Epoch 6/100\n",
      "2/2 [==============================] - 0s 74ms/step - loss: 0.0089 - mae: 0.0723\n",
      "Epoch 7/100\n",
      "2/2 [==============================] - 0s 151ms/step - loss: 0.0134 - mae: 0.0980\n",
      "Epoch 8/100\n",
      "2/2 [==============================] - 0s 93ms/step - loss: 0.0091 - mae: 0.0784\n",
      "Epoch 9/100\n",
      "2/2 [==============================] - 0s 117ms/step - loss: 0.0086 - mae: 0.0675\n",
      "Epoch 10/100\n",
      "2/2 [==============================] - 0s 70ms/step - loss: 0.0114 - mae: 0.0746\n",
      "Epoch 11/100\n",
      "2/2 [==============================] - 0s 126ms/step - loss: 0.0095 - mae: 0.0680\n",
      "Epoch 12/100\n",
      "2/2 [==============================] - 0s 127ms/step - loss: 0.0077 - mae: 0.0675\n",
      "Epoch 13/100\n",
      "2/2 [==============================] - 0s 121ms/step - loss: 0.0091 - mae: 0.0778\n",
      "Epoch 14/100\n",
      "2/2 [==============================] - 0s 107ms/step - loss: 0.0080 - mae: 0.0708\n",
      "Epoch 15/100\n",
      "2/2 [==============================] - 0s 139ms/step - loss: 0.0072 - mae: 0.0623\n",
      "Epoch 16/100\n",
      "2/2 [==============================] - 0s 118ms/step - loss: 0.0083 - mae: 0.0640\n",
      "Epoch 17/100\n",
      "2/2 [==============================] - 0s 137ms/step - loss: 0.0077 - mae: 0.0630\n",
      "Epoch 18/100\n",
      "2/2 [==============================] - 0s 118ms/step - loss: 0.0068 - mae: 0.0618\n",
      "Epoch 19/100\n",
      "2/2 [==============================] - 0s 126ms/step - loss: 0.0076 - mae: 0.0685\n",
      "Epoch 20/100\n",
      "2/2 [==============================] - 0s 115ms/step - loss: 0.0068 - mae: 0.0629\n",
      "Epoch 21/100\n",
      "2/2 [==============================] - 0s 127ms/step - loss: 0.0067 - mae: 0.0586\n",
      "Epoch 22/100\n",
      "2/2 [==============================] - 0s 127ms/step - loss: 0.0071 - mae: 0.0594\n",
      "Epoch 23/100\n",
      "2/2 [==============================] - 0s 124ms/step - loss: 0.0066 - mae: 0.0580\n",
      "Epoch 24/100\n",
      "2/2 [==============================] - 0s 122ms/step - loss: 0.0065 - mae: 0.0602\n",
      "Epoch 25/100\n",
      "2/2 [==============================] - 0s 139ms/step - loss: 0.0064 - mae: 0.0606\n",
      "Epoch 26/100\n",
      "2/2 [==============================] - 0s 153ms/step - loss: 0.0061 - mae: 0.0574\n",
      "Epoch 27/100\n",
      "2/2 [==============================] - 0s 100ms/step - loss: 0.0062 - mae: 0.0566\n",
      "Epoch 28/100\n",
      "2/2 [==============================] - 0s 133ms/step - loss: 0.0058 - mae: 0.0557\n",
      "Epoch 29/100\n",
      "2/2 [==============================] - 0s 123ms/step - loss: 0.0060 - mae: 0.0588\n",
      "Epoch 30/100\n",
      "2/2 [==============================] - 0s 129ms/step - loss: 0.0056 - mae: 0.0563\n",
      "Epoch 31/100\n",
      "2/2 [==============================] - 0s 119ms/step - loss: 0.0056 - mae: 0.0532\n",
      "Epoch 32/100\n",
      "2/2 [==============================] - 0s 81ms/step - loss: 0.0057 - mae: 0.0533\n",
      "Epoch 33/100\n",
      "2/2 [==============================] - 0s 130ms/step - loss: 0.0052 - mae: 0.0528\n",
      "Epoch 34/100\n",
      "2/2 [==============================] - 0s 126ms/step - loss: 0.0053 - mae: 0.0556\n",
      "Epoch 35/100\n",
      "2/2 [==============================] - 0s 105ms/step - loss: 0.0050 - mae: 0.0499\n",
      "Epoch 36/100\n",
      "2/2 [==============================] - 0s 133ms/step - loss: 0.0050 - mae: 0.0492\n",
      "Epoch 37/100\n",
      "2/2 [==============================] - 0s 122ms/step - loss: 0.0047 - mae: 0.0528\n",
      "Epoch 38/100\n",
      "2/2 [==============================] - 0s 125ms/step - loss: 0.0045 - mae: 0.0517\n",
      "Epoch 39/100\n",
      "2/2 [==============================] - 0s 100ms/step - loss: 0.0048 - mae: 0.0479\n",
      "Epoch 40/100\n",
      "2/2 [==============================] - 0s 103ms/step - loss: 0.0042 - mae: 0.0473\n",
      "Epoch 41/100\n",
      "2/2 [==============================] - 0s 98ms/step - loss: 0.0041 - mae: 0.0500\n",
      "Epoch 42/100\n",
      "2/2 [==============================] - 0s 128ms/step - loss: 0.0045 - mae: 0.0467\n",
      "Epoch 43/100\n",
      "2/2 [==============================] - 0s 180ms/step - loss: 0.0037 - mae: 0.0485\n",
      "Epoch 44/100\n",
      "2/2 [==============================] - 0s 120ms/step - loss: 0.0038 - mae: 0.0454\n",
      "Epoch 45/100\n",
      "2/2 [==============================] - 0s 151ms/step - loss: 0.0034 - mae: 0.0417\n",
      "Epoch 46/100\n",
      "2/2 [==============================] - 0s 121ms/step - loss: 0.0045 - mae: 0.0541\n",
      "Epoch 47/100\n",
      "2/2 [==============================] - 0s 90ms/step - loss: 0.0047 - mae: 0.0485\n",
      "Epoch 48/100\n",
      "2/2 [==============================] - 0s 127ms/step - loss: 0.0034 - mae: 0.0461\n",
      "Epoch 49/100\n",
      "2/2 [==============================] - 0s 125ms/step - loss: 0.0026 - mae: 0.0381\n",
      "Epoch 50/100\n",
      "2/2 [==============================] - 0s 121ms/step - loss: 0.0032 - mae: 0.0414\n",
      "Epoch 51/100\n",
      "2/2 [==============================] - 0s 126ms/step - loss: 0.0031 - mae: 0.0443\n",
      "Epoch 52/100\n",
      "2/2 [==============================] - 0s 70ms/step - loss: 0.0029 - mae: 0.0392\n",
      "Epoch 53/100\n",
      "2/2 [==============================] - 0s 138ms/step - loss: 0.0033 - mae: 0.0466\n",
      "Epoch 54/100\n",
      "2/2 [==============================] - 0s 125ms/step - loss: 0.0025 - mae: 0.0379\n",
      "Epoch 55/100\n",
      "2/2 [==============================] - 0s 132ms/step - loss: 0.0027 - mae: 0.0419\n",
      "Epoch 56/100\n",
      "2/2 [==============================] - 0s 110ms/step - loss: 0.0030 - mae: 0.0402\n",
      "Epoch 57/100\n",
      "2/2 [==============================] - 0s 110ms/step - loss: 0.0030 - mae: 0.0435\n",
      "Epoch 58/100\n",
      "2/2 [==============================] - 0s 138ms/step - loss: 0.0024 - mae: 0.0374\n",
      "Epoch 59/100\n",
      "2/2 [==============================] - 0s 139ms/step - loss: 0.0023 - mae: 0.0391\n",
      "Epoch 60/100\n",
      "2/2 [==============================] - 0s 120ms/step - loss: 0.0026 - mae: 0.0375\n",
      "Epoch 61/100\n",
      "2/2 [==============================] - 0s 139ms/step - loss: 0.0031 - mae: 0.0447\n",
      "Epoch 62/100\n",
      "2/2 [==============================] - 0s 137ms/step - loss: 0.0024 - mae: 0.0370\n",
      "Epoch 63/100\n",
      "2/2 [==============================] - 0s 130ms/step - loss: 0.0023 - mae: 0.0385\n",
      "Epoch 64/100\n",
      "2/2 [==============================] - 0s 129ms/step - loss: 0.0022 - mae: 0.0383\n",
      "Epoch 65/100\n",
      "2/2 [==============================] - 0s 130ms/step - loss: 0.0022 - mae: 0.0363\n",
      "Epoch 66/100\n",
      "2/2 [==============================] - 0s 115ms/step - loss: 0.0023 - mae: 0.0388\n",
      "Epoch 67/100\n",
      "2/2 [==============================] - 1s 181ms/step - loss: 0.0021 - mae: 0.0361\n",
      "Epoch 68/100\n",
      "2/2 [==============================] - 0s 116ms/step - loss: 0.0023 - mae: 0.0384\n",
      "Epoch 69/100\n",
      "2/2 [==============================] - 0s 116ms/step - loss: 0.0033 - mae: 0.0414\n",
      "Epoch 70/100\n",
      "2/2 [==============================] - 0s 117ms/step - loss: 0.0036 - mae: 0.0473\n",
      "Epoch 71/100\n",
      "2/2 [==============================] - 0s 85ms/step - loss: 0.0032 - mae: 0.0418\n",
      "Epoch 72/100\n",
      "2/2 [==============================] - 0s 160ms/step - loss: 0.0028 - mae: 0.0419\n",
      "Epoch 73/100\n",
      "2/2 [==============================] - 0s 92ms/step - loss: 0.0019 - mae: 0.0350\n",
      "Epoch 74/100\n",
      "2/2 [==============================] - 0s 80ms/step - loss: 0.0028 - mae: 0.0397\n",
      "Epoch 75/100\n",
      "2/2 [==============================] - 0s 103ms/step - loss: 0.0023 - mae: 0.0394\n",
      "Epoch 76/100\n",
      "2/2 [==============================] - 0s 119ms/step - loss: 0.0026 - mae: 0.0383\n",
      "Epoch 77/100\n",
      "2/2 [==============================] - 0s 139ms/step - loss: 0.0025 - mae: 0.0393\n",
      "Epoch 78/100\n",
      "2/2 [==============================] - 0s 116ms/step - loss: 0.0026 - mae: 0.0399\n",
      "Epoch 79/100\n",
      "2/2 [==============================] - 0s 127ms/step - loss: 0.0022 - mae: 0.0367\n",
      "Epoch 80/100\n",
      "2/2 [==============================] - 0s 118ms/step - loss: 0.0029 - mae: 0.0415\n",
      "Epoch 81/100\n",
      "2/2 [==============================] - 0s 118ms/step - loss: 0.0023 - mae: 0.0362\n",
      "Epoch 82/100\n",
      "2/2 [==============================] - 0s 102ms/step - loss: 0.0026 - mae: 0.0397\n",
      "Epoch 83/100\n",
      "2/2 [==============================] - 0s 95ms/step - loss: 0.0022 - mae: 0.0358\n",
      "Epoch 84/100\n",
      "2/2 [==============================] - 0s 100ms/step - loss: 0.0021 - mae: 0.0355\n",
      "Epoch 85/100\n",
      "2/2 [==============================] - 0s 112ms/step - loss: 0.0023 - mae: 0.0376\n",
      "Epoch 86/100\n",
      "2/2 [==============================] - 0s 102ms/step - loss: 0.0021 - mae: 0.0352\n",
      "Epoch 87/100\n",
      "2/2 [==============================] - 0s 97ms/step - loss: 0.0021 - mae: 0.0371\n",
      "Epoch 88/100\n",
      "2/2 [==============================] - 0s 110ms/step - loss: 0.0019 - mae: 0.0336\n",
      "Epoch 89/100\n",
      "2/2 [==============================] - 0s 90ms/step - loss: 0.0023 - mae: 0.0362\n",
      "Epoch 90/100\n",
      "2/2 [==============================] - 0s 99ms/step - loss: 0.0019 - mae: 0.0344\n",
      "Epoch 91/100\n",
      "2/2 [==============================] - 0s 191ms/step - loss: 0.0020 - mae: 0.0345\n",
      "Epoch 92/100\n",
      "2/2 [==============================] - 0s 182ms/step - loss: 0.0018 - mae: 0.0339\n",
      "Epoch 93/100\n",
      "2/2 [==============================] - 0s 80ms/step - loss: 0.0017 - mae: 0.0337\n",
      "Epoch 94/100\n",
      "2/2 [==============================] - 0s 81ms/step - loss: 0.0017 - mae: 0.0328\n",
      "Epoch 95/100\n",
      "2/2 [==============================] - 0s 85ms/step - loss: 0.0018 - mae: 0.0342\n",
      "Epoch 96/100\n",
      "2/2 [==============================] - 0s 118ms/step - loss: 0.0017 - mae: 0.0327\n",
      "Epoch 97/100\n",
      "2/2 [==============================] - 0s 115ms/step - loss: 0.0016 - mae: 0.0323\n",
      "Epoch 98/100\n",
      "2/2 [==============================] - 0s 190ms/step - loss: 0.0018 - mae: 0.0335\n",
      "Epoch 99/100\n",
      "2/2 [==============================] - 0s 100ms/step - loss: 0.0017 - mae: 0.0329\n",
      "Epoch 100/100\n",
      "2/2 [==============================] - 0s 92ms/step - loss: 0.0017 - mae: 0.0325\n"
     ]
    },
    {
     "data": {
      "text/plain": [
       "<keras.src.callbacks.History at 0x23c872fbf10>"
      ]
     },
     "execution_count": 67,
     "metadata": {},
     "output_type": "execute_result"
    }
   ],
   "source": [
    "model.compile(optimizer='adam',loss='mse',metrics=['mae'])\n",
    "model.fit(x_train,y_train,epochs=EPOCH,batch_size=BATCH)"
   ]
  },
  {
   "cell_type": "code",
   "execution_count": 68,
   "id": "a198f163-852a-4176-9f28-43d90f302fda",
   "metadata": {},
   "outputs": [
    {
     "name": "stdout",
     "output_type": "stream",
     "text": [
      "1/1 [==============================] - 1s 658ms/step\n"
     ]
    },
    {
     "data": {
      "image/png": "[encoded data removed]",
      "text/plain": [
       "<Figure size 640x480 with 1 Axes>"
      ]
     },
     "metadata": {},
     "output_type": "display_data"
    }
   ],
   "source": [
    "pred = model.predict(x_test)\n",
    "pred = scaler.inverse_transform(pred)\n",
    "y_test = scaler.inverse_transform(y_test)\n",
    "plt.plot(pred,'r:',label='predict')\n",
    "plt.plot(y_test,'g-',label='true')\n",
    "plt.legend()\n",
    "plt.show()"
   ]
  }
 ],
 "metadata": {
  "kernelspec": {
   "display_name": "Python 3 (ipykernel)",
   "language": "python",
   "name": "python3"
  },
  "language_info": {
   "codemirror_mode": {
    "name": "ipython",
    "version": 3
   },
   "file_extension": ".py",
   "mimetype": "text/x-python",
   "name": "python",
   "nbconvert_exporter": "python",
   "pygments_lexer": "ipython3",
   "version": "3.11.7"
  }
 },
 "nbformat": 4,
 "nbformat_minor": 5
}
